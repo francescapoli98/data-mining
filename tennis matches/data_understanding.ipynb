{
 "cells": [
  {
   "cell_type": "markdown",
   "id": "c6e02ce9-f300-4086-a514-f5098383492c",
   "metadata": {},
   "source": [
    "# Task 1.1: Data Understanding\n",
    "Explore the dataset with the analytical tools studied and write a concise _data understanding_ report assessing **data quality, the\n",
    "distribution of the variables and the pairwise correlations.**"
   ]
  },
  {
   "cell_type": "code",
   "execution_count": 4,
   "id": "11590908-c7f4-4539-90f7-493ddb6c36cf",
   "metadata": {},
   "outputs": [],
   "source": [
    "%matplotlib inline\n",
    "import math\n",
    "import numpy as np\n",
    "import pandas as pd\n",
    "import scipy.stats as stats\n",
    "import matplotlib.pyplot as plt\n",
    "\n",
    "from collections import defaultdict\n",
    "from scipy.stats.stats import pearsonr"
   ]
  },
  {
   "cell_type": "code",
   "execution_count": 25,
   "id": "2814ab74-73c0-4825-9eb5-4673c0fdba33",
   "metadata": {},
   "outputs": [],
   "source": [
    "male_df = pd.read_csv('data/female_players.csv')\n",
    "female_df = pd.read_csv('data/male_players.csv')\n",
    "df = pd.read_csv('data/tennis_matches.csv')"
   ]
  },
  {
   "cell_type": "code",
   "execution_count": null,
   "id": "845c5c40-0645-4b8d-84d6-09cb3f749f19",
   "metadata": {},
   "outputs": [],
   "source": []
  },
  {
   "cell_type": "markdown",
   "id": "cb03e7e7-99a0-42af-a992-e1bb634a42b9",
   "metadata": {},
   "source": [
    "# Task 1.2: Data Preparation \n",
    "**Improve the quality of your data** and prepare it by **extracting new features** interesting for describing the *player profile* and *his behavior derivable from matches*. These indicators have to be extracted for each player."
   ]
  },
  {
   "cell_type": "code",
   "execution_count": null,
   "id": "87367bf6-0734-4aa2-a0cf-4a4d4e165ff4",
   "metadata": {},
   "outputs": [],
   "source": []
  }
 ],
 "metadata": {
  "kernelspec": {
   "display_name": "Python 3",
   "language": "python",
   "name": "python3"
  },
  "language_info": {
   "codemirror_mode": {
    "name": "ipython",
    "version": 3
   },
   "file_extension": ".py",
   "mimetype": "text/x-python",
   "name": "python",
   "nbconvert_exporter": "python",
   "pygments_lexer": "ipython3",
   "version": "3.8.8"
  }
 },
 "nbformat": 4,
 "nbformat_minor": 5
}
